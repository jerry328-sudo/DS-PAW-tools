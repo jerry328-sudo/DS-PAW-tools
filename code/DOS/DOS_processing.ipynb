{
 "cells": [
  {
   "cell_type": "code",
   "execution_count": 1,
   "metadata": {},
   "outputs": [],
   "source": [
    "import os\n",
    "import sys\n",
    "sys.path.append(\"e:\\\\code\\\\DS-PAW\\\\DS-PAW-tools\\\\code\")\n",
    "import functions.function_normal as fn\n",
    "import matplotlib.pyplot as plt\n",
    "import numpy as np\n",
    "from scipy.ndimage import gaussian_filter1d"
   ]
  },
  {
   "cell_type": "code",
   "execution_count": 2,
   "metadata": {},
   "outputs": [],
   "source": [
    "path = 'f:\\\\code\\\\DS-PAW\\\\DS-PAW-tools\\\\code\\\\DOS\\\\data'\n",
    "dos = fn.dos_read(path = path)"
   ]
  },
  {
   "cell_type": "code",
   "execution_count": 3,
   "metadata": {},
   "outputs": [
    {
     "name": "stdout",
     "output_type": "stream",
     "text": [
      "dos_Ni: 73, [5.5408504, 8.736761659999999, 12.844999999999999]\n"
     ]
    }
   ],
   "source": [
    "# \"Cu\"\n",
    "# for i in range(len(dos['cellinfo'])):\n",
    "#     if dos['cellinfo'][i]['Element'] == 'O':\n",
    "#         if dos['cellinfo'][i]['Position'][0] < 0.4:\n",
    "#             dos_O = i\n",
    "#             print('dos_O: ' + str(dos_O)+', '+ str(fn.coordinate_transform(dos,dos['cellinfo'][dos_O]['Position'])))\n",
    "#     if dos['cellinfo'][i]['Element'] == 'Cu':\n",
    "#         if dos['cellinfo'][i]['Position'][0] < 0.3:\n",
    "#             if dos['cellinfo'][i]['Position'][1] > 0.3 and dos['cellinfo'][i]['Position'][1] < 0.7:\n",
    "#                 if dos['cellinfo'][i]['Position'][2] > 0.2:\n",
    "#                     dos_Cu = i\n",
    "#                     print('dos_Cu: ' + str(dos_Cu)+', '+ str(fn.coordinate_transform(dos,dos['cellinfo'][dos_Cu]['Position'])))\n",
    "\n",
    "\"C_Ni_CO2\"\n",
    "for i in range(len(dos['cellinfo'])):\n",
    "    if dos['cellinfo'][i]['Element'] == 'Ni':\n",
    "        if dos['cellinfo'][i]['Position'][2] > 0.9:\n",
    "            dos_Ni = i\n",
    "            print('dos_Ni: ' + str(dos_Ni)+', '+ str(fn.coordinate_transform(dos,dos['cellinfo'][dos_Ni]['Position'])))\n",
    "    # if dos['cellinfo'][i]['Element'] == 'O':\n",
    "    #     if dos['cellinfo'][i]['Position'][0] > 0.9:\n",
    "    #         if dos['cellinfo'][i]['Position'][1] > 0.4 and dos['cellinfo'][i]['Position'][1] < 0.6:\n",
    "    #             if dos['cellinfo'][i]['Position'][2] > 0.2:\n",
    "    #                 dos_Cu = i\n",
    "    #                 print('dos_Cu: ' + str(dos_Cu)+', '+ str(fn.coordinate_transform(dos,dos['cellinfo'][dos_Cu]['Position'])))"
   ]
  },
  {
   "cell_type": "code",
   "execution_count": 4,
   "metadata": {},
   "outputs": [],
   "source": [
    "smooth = 1\n",
    "energy = np.array(dos['DosEnergy'])-dos['EFermi']\n",
    "# spin1_O = np.array(dos['cellinfo'][dos_O]['spin1']['p'])\n",
    "# spin1_O_smooth = np.array(gaussian_filter1d(spin1_O, sigma=smooth))\n",
    "spin1_Cu = np.array(dos['cellinfo'][dos_Ni]['spin1']['d'])\n",
    "spin1_Cu_smooth = np.array(gaussian_filter1d(spin1_Cu, sigma=smooth))\n",
    "# spin2_O = np.array(dos['cellinfo'][dos_O]['spin2']['p'])\n",
    "# spin2_O_smooth = np.array(gaussian_filter1d(spin2_O, sigma=smooth))\n",
    "spin2_Cu = np.array(dos['cellinfo'][dos_Ni]['spin2']['d'])\n",
    "spin2_Cu_smooth = np.array(gaussian_filter1d(spin2_Cu, sigma=smooth))"
   ]
  },
  {
   "cell_type": "code",
   "execution_count": 5,
   "metadata": {},
   "outputs": [
    {
     "name": "stdout",
     "output_type": "stream",
     "text": [
      "D 带中心为：-0.7635111178954512\n"
     ]
    }
   ],
   "source": [
    "# 求D带中心\n",
    "\n",
    "# 对D轨道进行加和\n",
    "spin = np.array(spin1_Cu) + np.array(spin2_Cu)\n",
    "\n",
    "# 对D轨道进行积分\n",
    "spin_integral = np.trapz(spin, energy)\n",
    "\n",
    "# 对D*e进行积分\n",
    "spin_e_integral = np.trapz(spin*energy, energy)\n",
    "\n",
    "# 求D带中心\n",
    "spin_e_center = spin_e_integral/spin_integral\n",
    "print('D 带中心为：' + str(spin_e_center))"
   ]
  },
  {
   "cell_type": "code",
   "execution_count": 6,
   "metadata": {},
   "outputs": [
    {
     "data": {
      "image/png": "[encoded data removed]",
      "text/plain": [
       "<Figure size 640x480 with 1 Axes>"
      ]
     },
     "metadata": {},
     "output_type": "display_data"
    }
   ],
   "source": [
    "plt.plot(energy, spin1_Cu_smooth, 'b')\n",
    "plt.plot(energy, -spin2_Cu_smooth, 'r')\n",
    "plt.plot([spin_e_center,spin_e_center],[-30,30],'k',linewidth=0.5)\n",
    "# plt.plot(energy, spin1_O_smooth, 'y')\n",
    "# plt.plot(energy, -spin2_O_smooth, 'y')\n",
    "# plt.xlim(-5, 1)\n",
    "# plt.ylim(-5,5)\n",
    "plt.show()"
   ]
  },
  {
   "cell_type": "code",
   "execution_count": 7,
   "metadata": {},
   "outputs": [],
   "source": [
    "with open(path + '\\\\dos_cu_zn.txt', 'w') as f:\n",
    "    f.write('d band center is: ' + str(spin_e_center) + ' eV'+'\\n')\n",
    "    # f.write('energy      spin1_O                   spin2_O                   spin1_Cu                   spin2_Cu\\n')\n",
    "    f.write('energy      spin1_Cu                   spin2_Cu\\n')\n",
    "    for i in range(len(energy)):\n",
    "        # f.write('%-10s' % '%.03f' % energy[i] + '%-20s' % '%.09f' % spin1_O_smooth[i] + '%-20s' % '%.09f' %\n",
    "        #         spin2_O_smooth[i] + '%-20s' % '%.09f' % spin1_Cu_smooth[i] + '%-20s' % '%.09f' % spin2_Cu_smooth[i] + '\\n')\n",
    "        f.write('%-10s' % '%.03f' % energy[i] + '%-20s' % '%.09f' % spin1_Cu_smooth[i] + '%-20s' % '%.09f' % spin2_Cu_smooth[i] + '\\n')"
   ]
  },
  {
   "cell_type": "code",
   "execution_count": null,
   "metadata": {},
   "outputs": [],
   "source": []
  }
 ],
 "metadata": {
  "kernelspec": {
   "display_name": "Python 3",
   "language": "python",
   "name": "python3"
  },
  "language_info": {
   "codemirror_mode": {
    "name": "ipython",
    "version": 3
   },
   "file_extension": ".py",
   "mimetype": "text/x-python",
   "name": "python",
   "nbconvert_exporter": "python",
   "pygments_lexer": "ipython3",
   "version": "3.10.8 (tags/v3.10.8:aaaf517, Oct 11 2022, 16:50:30) [MSC v.1933 64 bit (AMD64)]"
  },
  "orig_nbformat": 4,
  "vscode": {
   "interpreter": {
    "hash": "f44cf9c01e1c447e1c20834b42e97560c1c833c2c38f0302ca096b409067f5c9"
   }
  }
 },
 "nbformat": 4,
 "nbformat_minor": 2
}
